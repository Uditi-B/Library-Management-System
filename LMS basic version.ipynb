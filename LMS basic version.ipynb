{
 "cells": [
  {
   "cell_type": "code",
   "execution_count": 3,
   "id": "05325383-80ca-4a67-8549-ee930311b283",
   "metadata": {},
   "outputs": [],
   "source": [
    "import sqlite3"
   ]
  },
  {
   "cell_type": "code",
   "execution_count": 12,
   "id": "0401b0e2-7900-4381-9159-d13bdf34b99f",
   "metadata": {},
   "outputs": [],
   "source": [
    "conn = sqlite3.connect(\"lms_basic.db\")\n",
    "conn.execute(\"PRAGMA foreign_keys = ON\")\n",
    "cursor = conn.cursor()"
   ]
  },
  {
   "cell_type": "code",
   "execution_count": 5,
   "id": "d9226faa-7861-4022-bd8a-49db9441c489",
   "metadata": {},
   "outputs": [],
   "source": [
    "cursor.execute(\"\"\"\n",
    "CREATE TABLE IF NOT EXISTS books(\n",
    "id INTEGER PRIMARY KEY AUTOINCREMENT,\n",
    "ISBN TEXT NOT NULL,\n",
    "title TEXT NOT NULL,\n",
    "author TEXT NOT NULL,\n",
    "publisher TEXT NOT NULL,\n",
    "genre TEXT ,\n",
    "price REAL NOT NULL, \n",
    "min_age TEXT NOT NULL,\n",
    "pages INTEGER,\n",
    "status TEXT NOT NULL\n",
    ")\n",
    "\"\"\")\n",
    "conn.commit()\n",
    "\n"
   ]
  },
  {
   "cell_type": "code",
   "execution_count": 6,
   "id": "50c780d0-46b1-4290-96ab-04bfaef61c2f",
   "metadata": {},
   "outputs": [],
   "source": [
    "cursor.execute(\"\"\"\n",
    "CREATE TABLE IF NOT EXISTS users(\n",
    "id INTEGER PRIMARY KEY AUTOINCREMENT,\n",
    "username TEXT NOT NULL UNIQUE,\n",
    "password TEXT NOT NULL,\n",
    "first_name TEXT NOT NULL,\n",
    "last_name TEXT NOT NULL,\n",
    "contact_number INTEGER,\n",
    "contact_email TEXT NOT NULL UNIQUE,\n",
    "residency TEXT NOT NULL,\n",
    "age INTEGER,\n",
    "number_of_issued_books INTEGER NOT NULL,\n",
    "role TEXT NOT NULL,\n",
    "creation_date DATE\n",
    ")\n",
    "\"\"\")\n",
    "conn.commit()\n"
   ]
  },
  {
   "cell_type": "code",
   "execution_count": 7,
   "id": "d5db159c-805d-42de-bd95-78be0657d3f9",
   "metadata": {},
   "outputs": [],
   "source": [
    "cursor.execute(\"\"\"\n",
    "CREATE TABLE IF NOT EXISTS book_user(\n",
    "book_id INTEGER NOT NULL,\n",
    "user_id INTEGER NOT NULL,\n",
    "issue_date DATE,\n",
    "return_date DATE,\n",
    "FOREIGN KEY (user_id) REFERENCES users(id)\n",
    "FOREIGN KEY (book_id) REFERENCES books(id)\n",
    "\n",
    ")\n",
    "\"\"\")\n",
    "conn.commit() "
   ]
  },
  {
   "cell_type": "code",
   "execution_count": 8,
   "id": "eaf3be85-db5c-4db9-8b50-37b6033b2d40",
   "metadata": {},
   "outputs": [
    {
     "name": "stdout",
     "output_type": "stream",
     "text": [
      "[(1, 'creator', '15996a1833ba404b79d40cdcd5de8079adcc77ee482ee98ad2b28b45e2726401', 'uditi', 'bansal', 392323232323, 'eeed@wwee', 'wdwfefe', 323, 0, 'admin', 323232)]\n"
     ]
    }
   ],
   "source": [
    "cursor.execute(\"SELECT * FROM users\")\n",
    "result = cursor.fetchall()\n",
    "print(result)"
   ]
  },
  {
   "cell_type": "code",
   "execution_count": 9,
   "id": "f7668724-332a-40f2-b945-715015a39de7",
   "metadata": {},
   "outputs": [],
   "source": [
    "conn.close()"
   ]
  },
  {
   "cell_type": "code",
   "execution_count": 10,
   "id": "2c6519bc-da75-49be-b182-261f76b17c72",
   "metadata": {},
   "outputs": [],
   "source": [
    "from flask import Flask, render_template, request, redirect, flash, session\n",
    "from functools import wraps\n",
    "from datetime import datetime\n",
    "import sqlite3\n",
    "import os\n",
    "import hashlib\n",
    "#--------------------------------------------------------------------------------------------------------------------------------------------------------\n",
    "\n",
    "app = Flask(__name__)\n",
    "app.secret_key = os.environ.get('FLASK_SECRET_KEY', os.urandom(24))\n",
    "#--------------------------------------------------------------------------------------------------------------------------------------------------------\n",
    "\n",
    "def get_db_connection():\n",
    "    conn = sqlite3.connect(\"lms_basic.db\")\n",
    "    conn.row_factory = sqlite3.Row\n",
    "    conn.execute(\"PRAGMA foreign_keys = ON\")\n",
    "    return conn\n",
    "#--------------------------------------------------------------------------------------------------------------------------------------------------------\n",
    "\n",
    "def hash_password(password):\n",
    "    return hashlib.sha256(password.encode()).hexdigest()\n",
    "#--------------------------------------------------------------------------------------------------------------------------------------------------------\n",
    "\n",
    "def get_db_connection():\n",
    "    conn = sqlite3.connect(\"lms_basic.db\")\n",
    "    conn.row_factory = sqlite3.Row\n",
    "    conn.execute(\"PRAGMA foreign_keys = ON\")\n",
    "    return conn\n",
    "def add_a_user(username, password, first_name, last_name, contact_number, contact_email, residency, age, creation_date):\n",
    "    conn = get_db_connection()\n",
    "    cursor = conn.cursor()\n",
    "    hashed_password = hash_password(password)\n",
    "\n",
    "    cursor.execute(\"\"\"\n",
    "        INSERT INTO users \n",
    "        (username, password, first_name, last_name, contact_number, contact_email, residency, age, number_of_issued_books, role, creation_date)\n",
    "        VALUES (?, ?, ?, ?, ?, ?, ?, ?, 0, 'admin', ?) \n",
    "    \"\"\", (username, hashed_password, first_name, last_name, contact_number, contact_email, residency, age, creation_date))\n",
    "    conn.commit()\n",
    "    conn.close()\n",
    "    return f\"User {username} added successfully.\"\n"
   ]
  },
  {
   "cell_type": "code",
   "execution_count": 24,
   "id": "db53feee-ce2b-4325-8f8e-fd9606edc493",
   "metadata": {},
   "outputs": [
    {
     "name": "stdout",
     "output_type": "stream",
     "text": [
      "[(1, 'creator', '15996a1833ba404b79d40cdcd5de8079adcc77ee482ee98ad2b28b45e2726401', 'uditi', 'bansal', 392323232323, 'eeed@wwee', 'wdwfefe', 323, 0, 'admin', 323232), (2, 'uditi', '96089187358d174bbe8eff2f242d3f32166c70f61569d8feb717dc7a6b326ec7', 'udi', 'b', 2213112, 'sjs@jds', 'ewdwd1w', 122, 0, 'user', '2025-06-29')]\n"
     ]
    }
   ],
   "source": [
    "cursor.execute(\"SELECT * FROM users\")\n",
    "result = cursor.fetchall()\n",
    "print(result)"
   ]
  },
  {
   "cell_type": "code",
   "execution_count": null,
   "id": "072e2cf8-0c37-46fa-bca1-a3888f4ef348",
   "metadata": {},
   "outputs": [],
   "source": []
  }
 ],
 "metadata": {
  "kernelspec": {
   "display_name": "Python 3 (ipykernel)",
   "language": "python",
   "name": "python3"
  },
  "language_info": {
   "codemirror_mode": {
    "name": "ipython",
    "version": 3
   },
   "file_extension": ".py",
   "mimetype": "text/x-python",
   "name": "python",
   "nbconvert_exporter": "python",
   "pygments_lexer": "ipython3",
   "version": "3.12.4"
  }
 },
 "nbformat": 4,
 "nbformat_minor": 5
}
