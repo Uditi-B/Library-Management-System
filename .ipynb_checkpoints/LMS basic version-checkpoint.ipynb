{
 "cells": [
  {
   "cell_type": "code",
   "execution_count": 15,
   "id": "05325383-80ca-4a67-8549-ee930311b283",
   "metadata": {},
   "outputs": [],
   "source": [
    "import sqlite3"
   ]
  },
  {
   "cell_type": "code",
   "execution_count": 16,
   "id": "0401b0e2-7900-4381-9159-d13bdf34b99f",
   "metadata": {},
   "outputs": [],
   "source": [
    "conn = sqlite3.connect(\"lms_basic.db\")\n",
    "conn.execute(\"PRAGMA foreign_keys = ON\")\n",
    "cursor = conn.cursor()"
   ]
  },
  {
   "cell_type": "code",
   "execution_count": 17,
   "id": "d9226faa-7861-4022-bd8a-49db9441c489",
   "metadata": {},
   "outputs": [],
   "source": [
    "cursor.execute(\"\"\"\n",
    "CREATE TABLE IF NOT EXISTS books(\n",
    "id INTEGER PRIMARY KEY AUTOINCREMENT,\n",
    "ISBN TEXT NOT NULL,\n",
    "title TEXT NOT NULL,\n",
    "author TEXT NOT NULL,\n",
    "genre TEXT ,\n",
    "price REAL NOT NULL, \n",
    "min_age TEXT NOT NULL,\n",
    "pages INTEGER,\n",
    "status TEXT NOT NULL\n",
    ")\n",
    "\"\"\")\n",
    "conn.commit()\n",
    "\n"
   ]
  },
  {
   "cell_type": "code",
   "execution_count": 18,
   "id": "50c780d0-46b1-4290-96ab-04bfaef61c2f",
   "metadata": {},
   "outputs": [],
   "source": [
    "cursor.execute(\"\"\"\n",
    "CREATE TABLE IF NOT EXISTS users(\n",
    "id INTEGER PRIMARY KEY AUTOINCREMENT,\n",
    "first_name TEXT NOT NULL,\n",
    "last_name TEXT NOT NULL,\n",
    "contact_number INTEGER,\n",
    "contact_email TEXT NOT NULL UNIQUE,\n",
    "residency TEXT NOT NULL,\n",
    "age INTEGER,\n",
    "status TEXT NOT NULL,\n",
    "number_of_issued_books INTEGER NOT NULL,\n",
    "creation_date DATE\n",
    ")\n",
    "\"\"\")\n",
    "conn.commit()\n"
   ]
  },
  {
   "cell_type": "code",
   "execution_count": 19,
   "id": "d5db159c-805d-42de-bd95-78be0657d3f9",
   "metadata": {},
   "outputs": [],
   "source": [
    "cursor.execute(\"\"\"\n",
    "CREATE TABLE IF NOT EXISTS book_user(\n",
    "book_id INTEGER NOT NULL,\n",
    "user_id INTEGER NOT NULL,\n",
    "issue_date DATE,\n",
    "return_date DATE,\n",
    "FOREIGN KEY (user_id) REFERENCES users(id)\n",
    "FOREIGN KEY (book_id) REFERENCES books(id)\n",
    "\n",
    ")\n",
    "\"\"\")\n",
    "conn.commit() "
   ]
  },
  {
   "cell_type": "code",
   "execution_count": null,
   "id": "f7668724-332a-40f2-b945-715015a39de7",
   "metadata": {},
   "outputs": [],
   "source": [
    "conn.close()"
   ]
  }
 ],
 "metadata": {
  "kernelspec": {
   "display_name": "Python 3 (ipykernel)",
   "language": "python",
   "name": "python3"
  },
  "language_info": {
   "codemirror_mode": {
    "name": "ipython",
    "version": 3
   },
   "file_extension": ".py",
   "mimetype": "text/x-python",
   "name": "python",
   "nbconvert_exporter": "python",
   "pygments_lexer": "ipython3",
   "version": "3.12.4"
  }
 },
 "nbformat": 4,
 "nbformat_minor": 5
}
